{
  "cells": [
    {
      "cell_type": "markdown",
      "id": "68655b5a",
      "metadata": {
        "id": "68655b5a"
      },
      "source": [
        "## Creating a Net-Zero Momentum Sector Strategy"
      ]
    },
    {
      "cell_type": "markdown",
      "id": "edd333cb",
      "metadata": {
        "id": "edd333cb"
      },
      "source": [
        "We have already seen a Momentum Cross Over strategy in session two."
      ]
    },
    {
      "cell_type": "markdown",
      "id": "30f8e3c1",
      "metadata": {
        "id": "30f8e3c1"
      },
      "source": [
        "Now, instead, we will implement a Zero Momentum Basket. Our basket will only contain Equity (Stocks).\n",
        "\n",
        "A basket here is simply a combination of individual stocks with different weightings\n",
        "\n",
        "Remember to checkout the old notebooks if you've forgotten any methods from previous weeks:\n",
        "\n",
        "https://imperialcollegelondon.app.box.com/s/rq3he3gb5mq2tlzzyhxh5q8s3iv82wfg"
      ]
    },
    {
      "cell_type": "markdown",
      "id": "201b2078",
      "metadata": {
        "id": "201b2078"
      },
      "source": [
        "**1a)** Read in the [AAPL, META, GOOG, AMZN, MSFT, TSLA] Stock Adjusted Close Prices using Yahoo Finance from Start of 2017 - End of 2019 into a DataFrame (df) (1 Mark)"
      ]
    },
    {
      "cell_type": "code",
      "execution_count": 2,
      "id": "d6873387",
      "metadata": {
        "colab": {
          "base_uri": "https://localhost:8080/",
          "height": 255
        },
        "id": "d6873387",
        "outputId": "195c39c7-ca3b-45b7-d6e4-2857650479be"
      },
      "outputs": [
        {
          "name": "stderr",
          "output_type": "stream",
          "text": [
            "Exception in thread Thread-6:\n",
            "Traceback (most recent call last):\n",
            "  File \"/Library/Frameworks/Python.framework/Versions/3.8/lib/python3.8/threading.py\", line 932, in _bootstrap_inner\n",
            "    self.run()\n",
            "  File \"/Library/Frameworks/Python.framework/Versions/3.8/lib/python3.8/threading.py\", line 870, in run\n",
            "    self._target(*self._args, **self._kwargs)\n",
            "  File \"/Library/Frameworks/Python.framework/Versions/3.8/lib/python3.8/site-packages/multitasking/__init__.py\", line 104, in _run_via_pool\n",
            "    return callee(*args, **kwargs)\n",
            "  File \"/Library/Frameworks/Python.framework/Versions/3.8/lib/python3.8/site-packages/yfinance/multi.py\", line 199, in _download_one_threaded\n",
            "    data = _download_one(ticker, start, end, auto_adjust, back_adjust,\n",
            "  File \"/Library/Frameworks/Python.framework/Versions/3.8/lib/python3.8/site-packages/yfinance/multi.py\", line 213, in _download_one\n",
            "    return Ticker(ticker).history(period=period, interval=interval,\n",
            "  File \"/Library/Frameworks/Python.framework/Versions/3.8/lib/python3.8/site-packages/yfinance/base.py\", line 156, in history\n",
            "    tz = self._get_ticker_tz(debug_mode, proxy, timeout)\n",
            "  File \"/Library/Frameworks/Python.framework/Versions/3.8/lib/python3.8/site-packages/yfinance/base.py\", line 358, in _get_ticker_tz\n",
            "    utils.cache_store_tkr_tz(self.ticker, tkr_tz)\n",
            "  File \"/Library/Frameworks/Python.framework/Versions/3.8/lib/python3.8/site-packages/yfinance/utils.py\", line 358, in cache_store_tkr_tz\n",
            "    df = _pd.read_csv(fp, index_col=\"Ticker\", on_bad_lines=\"skip\")\n",
            "TypeError: read_csv() got an unexpected keyword argument 'on_bad_lines'\n"
          ]
        },
        {
          "ename": "KeyboardInterrupt",
          "evalue": "",
          "output_type": "error",
          "traceback": [
            "\u001b[0;31m---------------------------------------------------------------------------\u001b[0m",
            "\u001b[0;31mKeyboardInterrupt\u001b[0m                         Traceback (most recent call last)",
            "Cell \u001b[0;32mIn[2], line 7\u001b[0m\n\u001b[1;32m      4\u001b[0m \u001b[39mimport\u001b[39;00m \u001b[39mmatplotlib\u001b[39;00m\u001b[39m.\u001b[39;00m\u001b[39mpyplot\u001b[39;00m \u001b[39mas\u001b[39;00m \u001b[39mplt\u001b[39;00m\n\u001b[1;32m      6\u001b[0m \u001b[39m#df = \u001b[39;00m\n\u001b[0;32m----> 7\u001b[0m df \u001b[39m=\u001b[39m yf\u001b[39m.\u001b[39;49mdownload([\u001b[39m'\u001b[39;49m\u001b[39mAAPL\u001b[39;49m\u001b[39m'\u001b[39;49m, \u001b[39m'\u001b[39;49m\u001b[39mMETA\u001b[39;49m\u001b[39m'\u001b[39;49m, \u001b[39m'\u001b[39;49m\u001b[39mGOOG\u001b[39;49m\u001b[39m'\u001b[39;49m, \u001b[39m'\u001b[39;49m\u001b[39mAMZN\u001b[39;49m\u001b[39m'\u001b[39;49m, \u001b[39m'\u001b[39;49m\u001b[39mMSFT\u001b[39;49m\u001b[39m'\u001b[39;49m, \u001b[39m'\u001b[39;49m\u001b[39mTSLA\u001b[39;49m\u001b[39m'\u001b[39;49m], start \u001b[39m=\u001b[39;49m \u001b[39m\"\u001b[39;49m\u001b[39m2017-01-01\u001b[39;49m\u001b[39m\"\u001b[39;49m, end \u001b[39m=\u001b[39;49m \u001b[39m\"\u001b[39;49m\u001b[39m2019-12-31\u001b[39;49m\u001b[39m\"\u001b[39;49m)[\u001b[39m'\u001b[39m\u001b[39mAdj Close\u001b[39m\u001b[39m'\u001b[39m]\n\u001b[1;32m      9\u001b[0m \u001b[39m#Output head of df\u001b[39;00m\n\u001b[1;32m     10\u001b[0m df\u001b[39m.\u001b[39mhead()\n",
            "File \u001b[0;32m/Library/Frameworks/Python.framework/Versions/3.8/lib/python3.8/site-packages/yfinance/multi.py:118\u001b[0m, in \u001b[0;36mdownload\u001b[0;34m(tickers, start, end, actions, threads, ignore_tz, group_by, auto_adjust, back_adjust, keepna, progress, period, show_errors, interval, prepost, proxy, rounding, timeout, **kwargs)\u001b[0m\n\u001b[1;32m    111\u001b[0m         _download_one_threaded(ticker, period\u001b[39m=\u001b[39mperiod, interval\u001b[39m=\u001b[39minterval,\n\u001b[1;32m    112\u001b[0m                                start\u001b[39m=\u001b[39mstart, end\u001b[39m=\u001b[39mend, prepost\u001b[39m=\u001b[39mprepost,\n\u001b[1;32m    113\u001b[0m                                actions\u001b[39m=\u001b[39mactions, auto_adjust\u001b[39m=\u001b[39mauto_adjust,\n\u001b[1;32m    114\u001b[0m                                back_adjust\u001b[39m=\u001b[39mback_adjust, keepna\u001b[39m=\u001b[39mkeepna,\n\u001b[1;32m    115\u001b[0m                                progress\u001b[39m=\u001b[39m(progress \u001b[39mand\u001b[39;00m i \u001b[39m>\u001b[39m \u001b[39m0\u001b[39m), proxy\u001b[39m=\u001b[39mproxy,\n\u001b[1;32m    116\u001b[0m                                rounding\u001b[39m=\u001b[39mrounding, timeout\u001b[39m=\u001b[39mtimeout)\n\u001b[1;32m    117\u001b[0m     \u001b[39mwhile\u001b[39;00m \u001b[39mlen\u001b[39m(shared\u001b[39m.\u001b[39m_DFS) \u001b[39m<\u001b[39m \u001b[39mlen\u001b[39m(tickers):\n\u001b[0;32m--> 118\u001b[0m         _time\u001b[39m.\u001b[39;49msleep(\u001b[39m0.01\u001b[39;49m)\n\u001b[1;32m    120\u001b[0m \u001b[39m# download synchronously\u001b[39;00m\n\u001b[1;32m    121\u001b[0m \u001b[39melse\u001b[39;00m:\n\u001b[1;32m    122\u001b[0m     \u001b[39mfor\u001b[39;00m i, ticker \u001b[39min\u001b[39;00m \u001b[39menumerate\u001b[39m(tickers):\n",
            "\u001b[0;31mKeyboardInterrupt\u001b[0m: "
          ]
        }
      ],
      "source": [
        "import yfinance as yf\n",
        "import numpy as np\n",
        "import pandas as pd\n",
        "import matplotlib.pyplot as plt\n",
        "\n",
        "#df = \n",
        "df = yf.download(['AAPL', 'META', 'GOOG', 'AMZN', 'MSFT', 'TSLA'], start = \"2017-01-01\", end = \"2019-12-31\")['Adj Close']\n",
        "\n",
        "#Output head of df\n",
        "df.head()"
      ]
    },
    {
      "cell_type": "markdown",
      "id": "d28472b8",
      "metadata": {
        "id": "d28472b8"
      },
      "source": [
        "**1b)** Plot the Adjusted Close Prices of these 6 stocks (1 Mark)"
      ]
    },
    {
      "cell_type": "code",
      "execution_count": null,
      "id": "4f9fa020",
      "metadata": {
        "colab": {
          "base_uri": "https://localhost:8080/",
          "height": 504
        },
        "id": "4f9fa020",
        "outputId": "b106453f-2281-46a5-ed7f-ef89b76723a6"
      },
      "outputs": [
        {
          "data": {
            "image/png": "[encoded data removed]",
            "text/plain": [
              "<Figure size 864x576 with 1 Axes>"
            ]
          },
          "metadata": {
            "needs_background": "light"
          },
          "output_type": "display_data"
        }
      ],
      "source": [
        "#Plot\n",
        "df.index = pd.to_datetime(df.index)\n",
        "\n",
        "df.plot(figsize = (12,8), fontsize= 15)\n",
        "plt.legend(loc = \"upper left\", fontsize = 15)\n",
        "plt.title('Adjusted Close Prices')\n",
        "plt.show()"
      ]
    },
    {
      "cell_type": "markdown",
      "id": "1082968a",
      "metadata": {
        "id": "1082968a"
      },
      "source": [
        "**1c)** Using the adjusted close of each of the 6 stocks generate the daily log return & show the new head of our df (1 Mark)"
      ]
    },
    {
      "cell_type": "code",
      "execution_count": null,
      "id": "4d065a31",
      "metadata": {
        "colab": {
          "base_uri": "https://localhost:8080/",
          "height": 386
        },
        "id": "4d065a31",
        "outputId": "1c639363-8587-4779-eef2-99060a59c802"
      },
      "outputs": [
        {
          "data": {
            "text/html": [
              "\n",
              "  <div id=\"df-3868662a-4573-4168-af26-6a4ad08dd10f\">\n",
              "    <div class=\"colab-df-container\">\n",
              "      <div>\n",
              "<style scoped>\n",
              "    .dataframe tbody tr th:only-of-type {\n",
              "        vertical-align: middle;\n",
              "    }\n",
              "\n",
              "    .dataframe tbody tr th {\n",
              "        vertical-align: top;\n",
              "    }\n",
              "\n",
              "    .dataframe thead th {\n",
              "        text-align: right;\n",
              "    }\n",
              "</style>\n",
              "<table border=\"1\" class=\"dataframe\">\n",
              "  <thead>\n",
              "    <tr style=\"text-align: right;\">\n",
              "      <th></th>\n",
              "      <th>AAPL</th>\n",
              "      <th>AMZN</th>\n",
              "      <th>GOOG</th>\n",
              "      <th>META</th>\n",
              "      <th>MSFT</th>\n",
              "      <th>TSLA</th>\n",
              "      <th>log return AAPL</th>\n",
              "      <th>log return AMZN</th>\n",
              "      <th>log return GOOG</th>\n",
              "      <th>log return META</th>\n",
              "      <th>log return MSFT</th>\n",
              "      <th>log return TSLA</th>\n",
              "    </tr>\n",
              "    <tr>\n",
              "      <th>Date</th>\n",
              "      <th></th>\n",
              "      <th></th>\n",
              "      <th></th>\n",
              "      <th></th>\n",
              "      <th></th>\n",
              "      <th></th>\n",
              "      <th></th>\n",
              "      <th></th>\n",
              "      <th></th>\n",
              "      <th></th>\n",
              "      <th></th>\n",
              "      <th></th>\n",
              "    </tr>\n",
              "  </thead>\n",
              "  <tbody>\n",
              "    <tr>\n",
              "      <th>2017-01-03</th>\n",
              "      <td>27.174753</td>\n",
              "      <td>37.683498</td>\n",
              "      <td>39.306999</td>\n",
              "      <td>116.860001</td>\n",
              "      <td>57.645370</td>\n",
              "      <td>14.466000</td>\n",
              "      <td>NaN</td>\n",
              "      <td>NaN</td>\n",
              "      <td>NaN</td>\n",
              "      <td>NaN</td>\n",
              "      <td>NaN</td>\n",
              "      <td>NaN</td>\n",
              "    </tr>\n",
              "    <tr>\n",
              "      <th>2017-01-04</th>\n",
              "      <td>27.144337</td>\n",
              "      <td>37.859001</td>\n",
              "      <td>39.345001</td>\n",
              "      <td>118.690002</td>\n",
              "      <td>57.387455</td>\n",
              "      <td>15.132667</td>\n",
              "      <td>-0.001120</td>\n",
              "      <td>0.004646</td>\n",
              "      <td>0.000966</td>\n",
              "      <td>0.015538</td>\n",
              "      <td>-0.004484</td>\n",
              "      <td>0.045055</td>\n",
              "    </tr>\n",
              "    <tr>\n",
              "      <th>2017-01-05</th>\n",
              "      <td>27.282381</td>\n",
              "      <td>39.022499</td>\n",
              "      <td>39.701000</td>\n",
              "      <td>120.669998</td>\n",
              "      <td>57.387455</td>\n",
              "      <td>15.116667</td>\n",
              "      <td>0.005073</td>\n",
              "      <td>0.030270</td>\n",
              "      <td>0.009007</td>\n",
              "      <td>0.016544</td>\n",
              "      <td>0.000000</td>\n",
              "      <td>-0.001058</td>\n",
              "    </tr>\n",
              "    <tr>\n",
              "      <th>2017-01-06</th>\n",
              "      <td>27.586527</td>\n",
              "      <td>39.799500</td>\n",
              "      <td>40.307499</td>\n",
              "      <td>123.410004</td>\n",
              "      <td>57.884876</td>\n",
              "      <td>15.267333</td>\n",
              "      <td>0.011086</td>\n",
              "      <td>0.019716</td>\n",
              "      <td>0.015161</td>\n",
              "      <td>0.022453</td>\n",
              "      <td>0.008630</td>\n",
              "      <td>0.009918</td>\n",
              "    </tr>\n",
              "    <tr>\n",
              "      <th>2017-01-09</th>\n",
              "      <td>27.839205</td>\n",
              "      <td>39.846001</td>\n",
              "      <td>40.332500</td>\n",
              "      <td>124.900002</td>\n",
              "      <td>57.700638</td>\n",
              "      <td>15.418667</td>\n",
              "      <td>0.009118</td>\n",
              "      <td>0.001168</td>\n",
              "      <td>0.000620</td>\n",
              "      <td>0.012001</td>\n",
              "      <td>-0.003188</td>\n",
              "      <td>0.009863</td>\n",
              "    </tr>\n",
              "  </tbody>\n",
              "</table>\n",
              "</div>\n",
              "      <button class=\"colab-df-convert\" onclick=\"convertToInteractive('df-3868662a-4573-4168-af26-6a4ad08dd10f')\"\n",
              "              title=\"Convert this dataframe to an interactive table.\"\n",
              "              style=\"display:none;\">\n",
              "        \n",
              "  <svg xmlns=\"http://www.w3.org/2000/svg\" height=\"24px\"viewBox=\"0 0 24 24\"\n",
              "       width=\"24px\">\n",
              "    <path d=\"M0 0h24v24H0V0z\" fill=\"none\"/>\n",
              "    <path d=\"M18.56 5.44l.94 2.06.94-2.06 2.06-.94-2.06-.94-.94-2.06-.94 2.06-2.06.94zm-11 1L8.5 8.5l.94-2.06 2.06-.94-2.06-.94L8.5 2.5l-.94 2.06-2.06.94zm10 10l.94 2.06.94-2.06 2.06-.94-2.06-.94-.94-2.06-.94 2.06-2.06.94z\"/><path d=\"M17.41 7.96l-1.37-1.37c-.4-.4-.92-.59-1.43-.59-.52 0-1.04.2-1.43.59L10.3 9.45l-7.72 7.72c-.78.78-.78 2.05 0 2.83L4 21.41c.39.39.9.59 1.41.59.51 0 1.02-.2 1.41-.59l7.78-7.78 2.81-2.81c.8-.78.8-2.07 0-2.86zM5.41 20L4 18.59l7.72-7.72 1.47 1.35L5.41 20z\"/>\n",
              "  </svg>\n",
              "      </button>\n",
              "      \n",
              "  <style>\n",
              "    .colab-df-container {\n",
              "      display:flex;\n",
              "      flex-wrap:wrap;\n",
              "      gap: 12px;\n",
              "    }\n",
              "\n",
              "    .colab-df-convert {\n",
              "      background-color: #E8F0FE;\n",
              "      border: none;\n",
              "      border-radius: 50%;\n",
              "      cursor: pointer;\n",
              "      display: none;\n",
              "      fill: #1967D2;\n",
              "      height: 32px;\n",
              "      padding: 0 0 0 0;\n",
              "      width: 32px;\n",
              "    }\n",
              "\n",
              "    .colab-df-convert:hover {\n",
              "      background-color: #E2EBFA;\n",
              "      box-shadow: 0px 1px 2px rgba(60, 64, 67, 0.3), 0px 1px 3px 1px rgba(60, 64, 67, 0.15);\n",
              "      fill: #174EA6;\n",
              "    }\n",
              "\n",
              "    [theme=dark] .colab-df-convert {\n",
              "      background-color: #3B4455;\n",
              "      fill: #D2E3FC;\n",
              "    }\n",
              "\n",
              "    [theme=dark] .colab-df-convert:hover {\n",
              "      background-color: #434B5C;\n",
              "      box-shadow: 0px 1px 3px 1px rgba(0, 0, 0, 0.15);\n",
              "      filter: drop-shadow(0px 1px 2px rgba(0, 0, 0, 0.3));\n",
              "      fill: #FFFFFF;\n",
              "    }\n",
              "  </style>\n",
              "\n",
              "      <script>\n",
              "        const buttonEl =\n",
              "          document.querySelector('#df-3868662a-4573-4168-af26-6a4ad08dd10f button.colab-df-convert');\n",
              "        buttonEl.style.display =\n",
              "          google.colab.kernel.accessAllowed ? 'block' : 'none';\n",
              "\n",
              "        async function convertToInteractive(key) {\n",
              "          const element = document.querySelector('#df-3868662a-4573-4168-af26-6a4ad08dd10f');\n",
              "          const dataTable =\n",
              "            await google.colab.kernel.invokeFunction('convertToInteractive',\n",
              "                                                     [key], {});\n",
              "          if (!dataTable) return;\n",
              "\n",
              "          const docLinkHtml = 'Like what you see? Visit the ' +\n",
              "            '<a target=\"_blank\" href=https://colab.research.google.com/notebooks/data_table.ipynb>data table notebook</a>'\n",
              "            + ' to learn more about interactive tables.';\n",
              "          element.innerHTML = '';\n",
              "          dataTable['output_type'] = 'display_data';\n",
              "          await google.colab.output.renderOutput(dataTable, element);\n",
              "          const docLink = document.createElement('div');\n",
              "          docLink.innerHTML = docLinkHtml;\n",
              "          element.appendChild(docLink);\n",
              "        }\n",
              "      </script>\n",
              "    </div>\n",
              "  </div>\n",
              "  "
            ],
            "text/plain": [
              "                 AAPL       AMZN       GOOG        META       MSFT       TSLA  \\\n",
              "Date                                                                            \n",
              "2017-01-03  27.174753  37.683498  39.306999  116.860001  57.645370  14.466000   \n",
              "2017-01-04  27.144337  37.859001  39.345001  118.690002  57.387455  15.132667   \n",
              "2017-01-05  27.282381  39.022499  39.701000  120.669998  57.387455  15.116667   \n",
              "2017-01-06  27.586527  39.799500  40.307499  123.410004  57.884876  15.267333   \n",
              "2017-01-09  27.839205  39.846001  40.332500  124.900002  57.700638  15.418667   \n",
              "\n",
              "            log return AAPL  log return AMZN  log return GOOG  \\\n",
              "Date                                                            \n",
              "2017-01-03              NaN              NaN              NaN   \n",
              "2017-01-04        -0.001120         0.004646         0.000966   \n",
              "2017-01-05         0.005073         0.030270         0.009007   \n",
              "2017-01-06         0.011086         0.019716         0.015161   \n",
              "2017-01-09         0.009118         0.001168         0.000620   \n",
              "\n",
              "            log return META  log return MSFT  log return TSLA  \n",
              "Date                                                           \n",
              "2017-01-03              NaN              NaN              NaN  \n",
              "2017-01-04         0.015538        -0.004484         0.045055  \n",
              "2017-01-05         0.016544         0.000000        -0.001058  \n",
              "2017-01-06         0.022453         0.008630         0.009918  \n",
              "2017-01-09         0.012001        -0.003188         0.009863  "
            ]
          },
          "execution_count": 3,
          "metadata": {},
          "output_type": "execute_result"
        }
      ],
      "source": [
        "#Output head of df\n",
        "for com in df.columns:\n",
        "  df['log return ' + com] = np.log(df[com]) - np.log(df[com].shift(1))\n",
        "\n",
        "df.head()"
      ]
    },
    {
      "cell_type": "markdown",
      "id": "bf91db15",
      "metadata": {
        "id": "bf91db15"
      },
      "source": [
        "## Creating a Basket"
      ]
    },
    {
      "cell_type": "markdown",
      "id": "10a449fe",
      "metadata": {
        "id": "10a449fe"
      },
      "source": [
        "As you can see the stocks perform at varying levels across these 4 years. We will look at trying to create a basket which is \"sector neutral\" such that it is unaffected by the sectors overall performance.\n",
        "\n",
        "(Although simpliefied) We can do this by shorting the sector as much as we long it.\n",
        "\n",
        "For a basket of 6 stocks we will allocate weightings of:\n",
        "\n",
        "A -> +30%\n",
        "\n",
        "B -> +15%\n",
        "\n",
        "C -> +5%\n",
        "\n",
        "D -> -5%\n",
        "\n",
        "E -> -15%\n",
        "\n",
        "F -> -30%\n",
        "\n",
        "This way we have a total capital allocation of 100% but we have gone long (+)50% and shorted (-)50%. Overall our net position in the sector is 0%.\n",
        "\n",
        "We can consider the daily returns from an individual stock in the basket (Basket_X_return) by using the formula:\n",
        "\n",
        "Basket_X_return = Weight(X) * daily_return\n",
        "\n",
        "Consider Asset E with a +10% daily return:\n",
        "\n",
        "Basket_E_return = -0.15 x 0.1 = -0.015 = -1.5% return\n",
        "\n",
        "Here the daily return from asset E in the basket is -1.5%.\n"
      ]
    },
    {
      "cell_type": "markdown",
      "id": "c6161563",
      "metadata": {
        "id": "c6161563"
      },
      "source": [
        "2a) Consider the basket:\n",
        "\n",
        "A = AAPL\n",
        "\n",
        "B = META\n",
        "\n",
        "C = GOOG\n",
        "\n",
        "D = AMZN\n",
        "\n",
        "E = MSFT\n",
        "\n",
        "F = TSLA"
      ]
    },
    {
      "cell_type": "markdown",
      "id": "258ea849",
      "metadata": {
        "id": "258ea849"
      },
      "source": [
        "**2a)** For each Stock Return Column of our df, use the Basket_X_Return formula to create an array/list of daily returns for each stock. What is the total return of our basket? (1 Mark)"
      ]
    },
    {
      "cell_type": "code",
      "execution_count": null,
      "id": "b3c739ba",
      "metadata": {
        "colab": {
          "base_uri": "https://localhost:8080/"
        },
        "id": "b3c739ba",
        "outputId": "1a2d3114-b7b5-4ddd-fca4-bc9eb9d93f0d"
      },
      "outputs": [
        {
          "name": "stdout",
          "output_type": "stream",
          "text": [
            "0.014443488923543912\n"
          ]
        }
      ],
      "source": [
        "#Print total return\n",
        "Basket_AAPL_Return = 0.30 * df['log return AAPL']\n",
        "Basket_META_Return = 0.15 * df['log return META']\n",
        "Basket_GOOG_Return = 0.05 * df['log return GOOG']\n",
        "Basket_AMZN_Return = -0.05 * df['log return AMZN']\n",
        "Basket_MSFT_Return = -0.15 * df['log return MSFT']\n",
        "Basket_TSLA_Return = -0.30 * df['log return TSLA']\n",
        "print(sum(Basket_AAPL_Return[1:])+sum(Basket_META_Return[1:])+sum(Basket_GOOG_Return[1:])+sum(Basket_AMZN_Return[1:])+sum(Basket_MSFT_Return[1:])+sum(Basket_TSLA_Return[1:]))"
      ]
    },
    {
      "cell_type": "markdown",
      "id": "e118d169",
      "metadata": {
        "id": "e118d169"
      },
      "source": [
        "**2b)** Plot the Cumulative Return of our model vs the individual stocks (1 Mark)"
      ]
    },
    {
      "cell_type": "code",
      "execution_count": null,
      "id": "58ca040c",
      "metadata": {
        "colab": {
          "base_uri": "https://localhost:8080/",
          "height": 281
        },
        "id": "58ca040c",
        "outputId": "c7dc6cf0-fa4c-4b6d-e80a-2df14313213c"
      },
      "outputs": [
        {
          "data": {
            "image/png": "[encoded data removed]",
            "text/plain": [
              "<Figure size 432x288 with 1 Axes>"
            ]
          },
          "metadata": {
            "needs_background": "light"
          },
          "output_type": "display_data"
        }
      ],
      "source": [
        "#Output plot of Cumulative return\n",
        "CumulativeReturn = [sum(Basket_AAPL_Return[1:]),sum(Basket_META_Return[1:]),sum(Basket_GOOG_Return[1:]),sum(Basket_AMZN_Return[1:]),sum(Basket_MSFT_Return[1:]),sum(Basket_TSLA_Return[1:])]\n",
        "stocks = []\n",
        "plt.scatter(['AAPL', 'META', 'GOOG', 'AMZN', 'MSFT', 'TSLA'], CumulativeReturn)\n",
        "plt.title('Cumulative Return')\n",
        "plt.show()"
      ]
    },
    {
      "cell_type": "markdown",
      "id": "21986070",
      "metadata": {
        "id": "21986070"
      },
      "source": [
        "## Finding the Optimum Allocation"
      ]
    },
    {
      "cell_type": "markdown",
      "id": "69573208",
      "metadata": {
        "id": "69573208"
      },
      "source": [
        "We have considered one possible combination our 6 stocks in the 6 slots (A-F)\n",
        "\n",
        "**3a)** How many possible allocations are there for our 6 stocks in the 6 slots? (1 Mark)"
      ]
    },
    {
      "cell_type": "code",
      "execution_count": null,
      "id": "96e3d211",
      "metadata": {
        "colab": {
          "base_uri": "https://localhost:8080/"
        },
        "id": "96e3d211",
        "outputId": "6deb7405-b502-4aaf-edba-5148bb9b6e23"
      },
      "outputs": [
        {
          "name": "stdout",
          "output_type": "stream",
          "text": [
            "720\n"
          ]
        }
      ],
      "source": [
        "#Print number of allocations\n",
        "import math\n",
        "print(math.factorial(6))"
      ]
    },
    {
      "cell_type": "markdown",
      "id": "eb4891d3",
      "metadata": {
        "id": "eb4891d3"
      },
      "source": [
        "Using combinations function for finding all variations.\n",
        "\n",
        "Documentation: https://docs.python.org/3/library/itertools.html#itertools.combinations\n",
        "\n",
        "**3b)** Generate all variations (1 Mark)"
      ]
    },
    {
      "cell_type": "code",
      "execution_count": null,
      "id": "4ac44187",
      "metadata": {
        "id": "4ac44187"
      },
      "outputs": [],
      "source": [
        "from itertools import permutations\n",
        "#Print List of all variations\n",
        "variations = permutations(['AAPL', 'META', 'GOOG', 'AMZN', 'MSFT', 'TSLA'])"
      ]
    },
    {
      "cell_type": "markdown",
      "id": "16b43c42",
      "metadata": {
        "id": "16b43c42"
      },
      "source": [
        "**3c)** Iterate through each possible basket & save the total basket return, which arrangement generates the optimum log return? (2 Marks)"
      ]
    },
    {
      "cell_type": "code",
      "execution_count": null,
      "id": "6f955ffd",
      "metadata": {
        "colab": {
          "base_uri": "https://localhost:8080/"
        },
        "id": "6f955ffd",
        "outputId": "7ce9ae3f-4cae-450f-8e78-79ad7e1e43d2"
      },
      "outputs": [
        {
          "name": "stdout",
          "output_type": "stream",
          "text": [
            "('AAPL', 'GOOG', 'TSLA', 'MSFT', 'META', 'AMZN')\n",
            "0.00010661989693006024\n"
          ]
        }
      ],
      "source": [
        "#Print Optimum Arrangement & it's return\n",
        "baskets = [0.3, 0.15, 0.05, -0.05, -0.15, -0.3]\n",
        "opt = math.inf\n",
        "opt_arrangement = None\n",
        "\n",
        "for arrangement in variations:\n",
        "\n",
        "  total = 0\n",
        "  \n",
        "  for i in range(6):\n",
        "    total = total + sum(baskets[i] * df['log return ' + arrangement[i]][1:])\n",
        "  \n",
        "  if abs(total) < opt:\n",
        "    opt = total\n",
        "    opt_arrangement = arrangement\n",
        "\n",
        "print(opt_arrangement)\n",
        "print(opt)"
      ]
    },
    {
      "cell_type": "markdown",
      "id": "mJLcXPF6QT8a",
      "metadata": {
        "id": "mJLcXPF6QT8a"
      },
      "source": [
        "## Improving Our Strategy"
      ]
    },
    {
      "cell_type": "markdown",
      "id": "2WntOaquPibV",
      "metadata": {
        "id": "2WntOaquPibV"
      },
      "source": [
        "**4)** For the chance to get 11/10: Recommend another way we could try and optimise a zero momentum basket. No right answers!\n",
        "\n",
        "i.e. iterate through different possible A-F weightings ([+25%, +15%, +10%...]). "
      ]
    },
    {
      "cell_type": "code",
      "execution_count": null,
      "id": "cdpJfIf2Pxg4",
      "metadata": {
        "colab": {
          "base_uri": "https://localhost:8080/"
        },
        "id": "cdpJfIf2Pxg4",
        "outputId": "3a8584fd-4349-4b8d-fce6-48708c18dd5e"
      },
      "outputs": [
        {
          "name": "stdout",
          "output_type": "stream",
          "text": [
            "[0.35714285714285715, 0.21428571428571427, 0.07142857142857138, -0.07142857142857145, -0.2142857142857143, -0.3571428571428572]\n",
            "a\n",
            "None\n",
            "inf\n"
          ]
        }
      ],
      "source": [
        "#divide the weight more evenly\n",
        "baskets = [(50 - (100/7) * i)/100 for i in range(1,7)]\n",
        "# = [0.35714285714285715, 0.21428571428571427, 0.07142857142857138, -0.07142857142857145, -0.2142857142857143, -0.3571428571428572]\n",
        "print(baskets)\n",
        "\n",
        "opt = math.inf\n",
        "opt_arrangement = None\n",
        "print('a')\n",
        "for arrangement in variations:\n",
        "  print('b')\n",
        "  total = 0\n",
        "  \n",
        "  for i in range(6):\n",
        "    total = total + sum(baskets[i] * df['log return ' + arrangement[i]][1:])\n",
        "  print(total)\n",
        "  if abs(total) < opt:\n",
        "    opt = total\n",
        "    opt_arrangement = arrangement\n",
        "\n",
        "print(opt_arrangement)\n",
        "print(opt)"
      ]
    }
  ],
  "metadata": {
    "colab": {
      "collapsed_sections": [
        "68655b5a",
        "bf91db15",
        "21986070",
        "mJLcXPF6QT8a"
      ],
      "provenance": []
    },
    "kernelspec": {
      "display_name": "Python 3.8.2 64-bit",
      "language": "python",
      "name": "python3"
    },
    "language_info": {
      "codemirror_mode": {
        "name": "ipython",
        "version": 3
      },
      "file_extension": ".py",
      "mimetype": "text/x-python",
      "name": "python",
      "nbconvert_exporter": "python",
      "pygments_lexer": "ipython3",
      "version": "3.8.2"
    },
    "vscode": {
      "interpreter": {
        "hash": "082e9a3bcad0a290d0001e938aa60b99250c6c2ef33a923c00b70f9826caf4b7"
      }
    }
  },
  "nbformat": 4,
  "nbformat_minor": 5
}
